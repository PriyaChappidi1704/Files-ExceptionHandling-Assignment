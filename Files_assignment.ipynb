{
  "nbformat": 4,
  "nbformat_minor": 0,
  "metadata": {
    "colab": {
      "provenance": []
    },
    "kernelspec": {
      "name": "python3",
      "display_name": "Python 3"
    },
    "language_info": {
      "name": "python"
    }
  },
  "cells": [
    {
      "cell_type": "markdown",
      "source": [
        "# **Files,  Exceptional handling, logging and memory management Assignment**"
      ],
      "metadata": {
        "id": "Gqy1vLwDO92e"
      }
    },
    {
      "cell_type": "markdown",
      "source": [
        "1. What is the difference between interpreted and compiled languages?\n",
        "  - Interpreted languages execute code line-by-line at runtime, making debugging easier. Compiled languages convert code into machine code before execution, resulting in faster performance. Python is an interpreted language.\n",
        "2. What is exception handling in Python?\n",
        "  - Exception handling allows a program to respond to runtime errors gracefully using try, except, finally, and else blocks. It helps in preventing crashes and debugging errors effectively.\n",
        "3.  What is the purpose of the finally block in exception handling?\n",
        "  - The finally block is always executed, regardless of whether an exception occurred or not. It is commonly used to release resources like file handles or database connections.\n",
        "4. What is logging in Python?\n",
        "  - Logging is the process of recording events or messages from a program. It helps in monitoring, debugging, and tracking the behavior of the application using the logging module.\n",
        "5. What is the significance of the _ _del_ _ method in Python?\n",
        "  - The _ _del_ _ method is a destructor called when an object is about to be destroyed. It is used to perform cleanup operations like closing files or releasing memory.\n",
        "6. What is the difference between import and from ... import in Python?\n",
        "  - import module imports the entire module, requiring prefixing with module name. \"from module import item\" imports specific functions/classes, allowing direct usage without module prefix.\n",
        "7. How can you handle multiple exceptions in Python?\n",
        "  - Python allows multiple except blocks for different exception types. Alternatively, multiple exceptions can be handled in a single block using tuples.\n",
        "8. What is the purpose of the with statement when handling files in Python?\n",
        "  - The with statement simplifies file handling by automatically closing the file after its suite finishes, ensuring proper resource management.\n",
        "9. What is the difference between multithreading and multiprocessing?\n",
        "  - Multithreading involves multiple threads in a single process, sharing memory. Multiprocessing uses separate processes with independent memory, suitable for CPU-bound tasks.\n",
        "10. What are the advantages of using logging in a program?\n",
        "  - Logging helps track application events, aids debugging, and maintains a record of issues. It improves code maintainability and monitoring.\n",
        "11. What is memory management in Python?\n",
        "  - Python handles memory automatically using reference counting and garbage collection. It efficiently manages object lifecycles and deallocates unused memory.\n",
        "12. What are the basic steps involved in exception handling in Python?\n",
        "  - Wrap risky code in a try block, handle exceptions in except, optionally use else for no-error cases, and finally for cleanup tasks.\n",
        "13. Why is memory management important in Python?\n",
        "  - Proper memory management prevents memory leaks, optimizes performance, and ensures efficient resource utilization.\n",
        "14. What is the role of try and except in exception handling?\n",
        "  - try block contains code that might raise an error, while except defines how to handle specific exceptions without crashing the program.\n",
        "15. How does Python's garbage collection system work?\n",
        "  - Python uses automatic garbage collection through reference counting and a cyclic garbage collector to reclaim unused memory.\n",
        "16. What is the purpose of the else block in exception handling?\n",
        "  - The else block runs if no exception occurs in the try block. It's used to separate error-handling code from normal execution.\n",
        "17. What are the common logging levels in Python?\n",
        "  - Python supports DEBUG, INFO, WARNING, ERROR, and CRITICAL logging levels, helping classify the importance of logged events.\n",
        "18. What is the difference between os.fork() and multiprocessing in Python?\n",
        "  - os.fork() creates a child process (Unix-only), whereas multiprocessing is cross-platform and offers a higher-level interface to manage processes.\n",
        "19. What is the importance of closing a file in Python?\n",
        "  - Closing a file releases system resources and ensures all data is properly saved. It also prevents file corruption and resource leaks.\n",
        "20. What is the difference between file.read() and file.readline() in Python?\n",
        "  - file.read() reads the entire file content as a string, while file.readline() reads only one line at a time.\n",
        "21. What is the logging module in Python used for?\n",
        "  - The logging module provides a flexible framework for emitting log messages from programs and supports multiple logging levels and outputs.\n",
        "22. What is the os module in Python used for in file handling?\n",
        "  - The os module enables interaction with the operating system, allowing operations like file creation, deletion, path navigation, and directory management.\n",
        "23. What are the challenges associated with memory management in Python?\n",
        "  - Issues like memory leaks, circular references, and managing large datasets pose challenges. Python's garbage collector mitigates but doesn't eliminate them.\n",
        "24.  How do you raise an exception manually in Python?\n",
        "  - Exceptions can be manually raised using the raise statement. For example: raise ValueError(\"Invalid input\").\n",
        "25. Why is it important to use multithreading in certain applications?\n",
        "  - Multithreading improves application performance in I/O-bound tasks by running multiple operations concurrently, enhancing responsiveness.\n"
      ],
      "metadata": {
        "id": "PqLyIAySPVvZ"
      }
    },
    {
      "cell_type": "code",
      "source": [
        "#1.How can you open a file for writing in Python and write a string to it?\n",
        "with open(\"example.txt\", \"w\") as file:\n",
        "    file.write(\"Hello, this is a test file.\")\n",
        "#2.Write a Python program to read the contents of a file and print each line\n",
        "with open(\"example.txt\", \"r\") as file:\n",
        "    for line in file:\n",
        "        print(line.strip())"
      ],
      "metadata": {
        "colab": {
          "base_uri": "https://localhost:8080/"
        },
        "id": "Y4ISzz1zCDt2",
        "outputId": "71a7e37e-563d-4f98-9316-0abaa5f749a2"
      },
      "execution_count": 3,
      "outputs": [
        {
          "output_type": "stream",
          "name": "stdout",
          "text": [
            "Hello, this is a test file.\n"
          ]
        }
      ]
    },
    {
      "cell_type": "code",
      "source": [
        "#3.How would you handle a case where the file doesn't exist while trying to open it for reading?\n",
        "try:\n",
        "    with open(\"nofile.txt\", \"r\") as file:\n",
        "        print(file.read())\n",
        "except FileNotFoundError:\n",
        "    print(\"File not found.\")"
      ],
      "metadata": {
        "colab": {
          "base_uri": "https://localhost:8080/"
        },
        "id": "45VevHuUKjpX",
        "outputId": "7528d12c-a254-480f-96d3-cbe0005b2da2"
      },
      "execution_count": 4,
      "outputs": [
        {
          "output_type": "stream",
          "name": "stdout",
          "text": [
            "File not found.\n"
          ]
        }
      ]
    },
    {
      "cell_type": "code",
      "source": [
        "#4.Write a Python script that reads from one file and writes its content to another file.\n",
        "with open(\"example.txt\", \"r\") as source:\n",
        "    with open(\"copy.txt\", \"w\") as destination:\n",
        "        destination.write(source.read())"
      ],
      "metadata": {
        "id": "ylcZSh6ZK3SL"
      },
      "execution_count": 5,
      "outputs": []
    },
    {
      "cell_type": "code",
      "source": [
        "#5.How would you catch and handle division by zero error in Python?\n",
        "try:\n",
        "    result = 10 / 0\n",
        "except ZeroDivisionError:\n",
        "    print(\"Division by zero is not allowed.\")\n",
        "    result = None\n",
        "print(result)"
      ],
      "metadata": {
        "colab": {
          "base_uri": "https://localhost:8080/"
        },
        "id": "jA8QnsB6LD0x",
        "outputId": "8bc47eb6-108c-4734-e18a-57961a7cde4c"
      },
      "execution_count": 6,
      "outputs": [
        {
          "output_type": "stream",
          "name": "stdout",
          "text": [
            "Division by zero is not allowed.\n",
            "None\n"
          ]
        }
      ]
    },
    {
      "cell_type": "code",
      "source": [
        "#6.Write a Python program that logs an error message to a log file when a division by zero exception occurs.\n",
        "import logging\n",
        "logging.basicConfig(filename='error.log', level=logging.ERROR)\n",
        "try:\n",
        "    result = 10 / 0\n",
        "except ZeroDivisionError:\n",
        "    logging.error(\"Division by zero error occurred.\")"
      ],
      "metadata": {
        "colab": {
          "base_uri": "https://localhost:8080/"
        },
        "id": "L9_jM-mpLg3A",
        "outputId": "02f52dcb-bd0f-42e7-9432-54646c4ff18d"
      },
      "execution_count": 7,
      "outputs": [
        {
          "output_type": "stream",
          "name": "stderr",
          "text": [
            "ERROR:root:Division by zero error occurred.\n"
          ]
        }
      ]
    },
    {
      "cell_type": "code",
      "source": [
        "#7.How do you log information at different levels (INFO, ERROR, WARNING) in Python using the logging module?\n",
        "import logging\n",
        "logging.basicConfig(level=logging.DEBUG)\n",
        "logging.info(\"This is info.\")\n",
        "logging.warning(\"This is a warning.\")\n",
        "logging.error(\"This is an error.\")"
      ],
      "metadata": {
        "colab": {
          "base_uri": "https://localhost:8080/"
        },
        "id": "wAHOA8cwL1Rd",
        "outputId": "de8a4cde-2ca9-497c-d7fd-d6bf02e5face"
      },
      "execution_count": 8,
      "outputs": [
        {
          "output_type": "stream",
          "name": "stderr",
          "text": [
            "WARNING:root:This is a warning.\n",
            "ERROR:root:This is an error.\n"
          ]
        }
      ]
    },
    {
      "cell_type": "code",
      "source": [
        "#8.Write a program to handle a file opening error using exception handling.\n",
        "try:\n",
        "    with open(\"nofile.txt\", \"r\") as file:\n",
        "        print(file.read())\n",
        "except Exception as e:\n",
        "    print(f\"Error: {e}\")"
      ],
      "metadata": {
        "colab": {
          "base_uri": "https://localhost:8080/"
        },
        "id": "UZfvMaFvMB5y",
        "outputId": "6393119c-e04a-4733-eeec-ffaf9f8ad876"
      },
      "execution_count": 9,
      "outputs": [
        {
          "output_type": "stream",
          "name": "stdout",
          "text": [
            "Error: [Errno 2] No such file or directory: 'nofile.txt'\n"
          ]
        }
      ]
    },
    {
      "cell_type": "code",
      "source": [
        "#9.How can you read a file line by line and store its content in a list in Python?\n",
        "with open(\"example.txt\", \"r\") as file:\n",
        "    lines = file.readlines()\n",
        "    print(lines)"
      ],
      "metadata": {
        "colab": {
          "base_uri": "https://localhost:8080/"
        },
        "id": "jhMOf3eIMPEe",
        "outputId": "b1405d9a-00bd-4a3f-8413-189dd89506b3"
      },
      "execution_count": 10,
      "outputs": [
        {
          "output_type": "stream",
          "name": "stdout",
          "text": [
            "['Hello, this is a test file.']\n"
          ]
        }
      ]
    },
    {
      "cell_type": "code",
      "source": [
        "#10.How can you append data to an existing file in Python?\n",
        "with open(\"example.txt\", \"a\") as file:\n",
        "    file.write(\"\\nAppended line.\")"
      ],
      "metadata": {
        "id": "oT1FH4tTMYxY"
      },
      "execution_count": 11,
      "outputs": []
    },
    {
      "cell_type": "code",
      "source": [
        "#11.Write a Python program that uses a try-except block to handle an error when attempting to access a dictionary key that doesn't exist.\n",
        "my_dict = {\"a\": 1, \"b\": 2}\n",
        "try:\n",
        "    value = my_dict[\"c\"]\n",
        "except KeyError:\n",
        "    print(\"Key not found in the dictionary.\")"
      ],
      "metadata": {
        "colab": {
          "base_uri": "https://localhost:8080/"
        },
        "id": "bJzZwyfmMhXz",
        "outputId": "0a8d9a60-5a20-4b67-e99c-68dd0d2b5b2c"
      },
      "execution_count": 12,
      "outputs": [
        {
          "output_type": "stream",
          "name": "stdout",
          "text": [
            "Key not found in the dictionary.\n"
          ]
        }
      ]
    },
    {
      "cell_type": "code",
      "source": [
        "#12.Write a program that demonstrates using multiple except blocks to handle different types of exceptions.\n",
        "try:\n",
        "    result = 10 / 0\n",
        "except ZeroDivisionError:\n",
        "    print(\"Division by zero error.\")\n",
        "except ValueError:\n",
        "    print(\"Value error.\")"
      ],
      "metadata": {
        "colab": {
          "base_uri": "https://localhost:8080/"
        },
        "id": "84hCFbbnMtXr",
        "outputId": "82203b79-e530-4ba6-c389-62bb355d14f0"
      },
      "execution_count": 13,
      "outputs": [
        {
          "output_type": "stream",
          "name": "stdout",
          "text": [
            "Division by zero error.\n"
          ]
        }
      ]
    },
    {
      "cell_type": "code",
      "source": [
        "#13. How would you check if a file exists before attempting to read it in Python?\n",
        "import os\n",
        "filename = \"example.txt\"\n",
        "if os.path.exists(filename):\n",
        "    with open(filename, \"r\") as file:\n",
        "        print(file.read())\n",
        "else:\n",
        "    print(\"File does not exist.\")"
      ],
      "metadata": {
        "colab": {
          "base_uri": "https://localhost:8080/"
        },
        "id": "HyxmzxBzM6aL",
        "outputId": "3acfaa80-16ef-4b93-f133-54c8ac06250c"
      },
      "execution_count": 14,
      "outputs": [
        {
          "output_type": "stream",
          "name": "stdout",
          "text": [
            "Hello, this is a test file.\n",
            "Appended line.\n"
          ]
        }
      ]
    },
    {
      "cell_type": "code",
      "source": [
        "#14.Write a program that uses the logging module to log both informational and error messages.\n",
        "import logging\n",
        "logging.basicConfig(filename='app.log', level=logging.INFO)\n",
        "logging.info(\"This is an informational message.\")\n",
        "try:\n",
        "    x = 1 / 0\n",
        "except ZeroDivisionError:\n",
        "    logging.error(\"Attempted division by zero.\")"
      ],
      "metadata": {
        "colab": {
          "base_uri": "https://localhost:8080/"
        },
        "id": "xwu9PkPRNd2Y",
        "outputId": "92e3114f-93af-422c-c2e9-00a876b34a13"
      },
      "execution_count": 15,
      "outputs": [
        {
          "output_type": "stream",
          "name": "stderr",
          "text": [
            "ERROR:root:Attempted division by zero.\n"
          ]
        }
      ]
    },
    {
      "cell_type": "code",
      "source": [
        "#15.Write a Python program that prints the content of a file and handles the case when the file is empty.\n",
        "filename = \"example.txt\"\n",
        "with open(filename, \"r\") as file:\n",
        "    content = file.read()\n",
        "    if content:\n",
        "        print(content)\n",
        "    else:\n",
        "        print(\"File is empty.\")"
      ],
      "metadata": {
        "colab": {
          "base_uri": "https://localhost:8080/"
        },
        "id": "OfPDUjCoNtf9",
        "outputId": "47b866ae-8c40-499f-a7c4-bb4854f74277"
      },
      "execution_count": 19,
      "outputs": [
        {
          "output_type": "stream",
          "name": "stdout",
          "text": [
            "Hello, this is a test file.\n",
            "Appended line.\n"
          ]
        }
      ]
    },
    {
      "cell_type": "code",
      "source": [
        "#16.Demonstrate how to use memory profiling to check the memory usage of a small program.\n",
        "from memory_profiler import memory_usage\n",
        "def compute():\n",
        "    nums = [i for i in range(100000)]\n",
        "    return sum(nums)\n",
        "mem_used = memory_usage(compute)\n",
        "print(\"Memory used during execution (in MB):\", mem_used)"
      ],
      "metadata": {
        "colab": {
          "base_uri": "https://localhost:8080/"
        },
        "id": "Evf54DfpR1A5",
        "outputId": "f2e7759a-69e9-4876-89af-97cbfd7ef598"
      },
      "execution_count": 23,
      "outputs": [
        {
          "output_type": "stream",
          "name": "stdout",
          "text": [
            "Memory used during execution (in MB): [102.71484375, 102.71484375, 104.15625, 104.5703125, 104.5703125, 104.5703125, 102.71484375, 102.71484375]\n"
          ]
        }
      ]
    },
    {
      "cell_type": "code",
      "source": [
        "#17.Write a Python program to create and write a list of numbers to a file, one number per line.\n",
        "numbers = [1, 2, 3, 4, 5]\n",
        "with open(\"numbers.txt\", \"w\") as file:\n",
        "    for number in numbers:\n",
        "        file.write(str(number) + \"\\n\")"
      ],
      "metadata": {
        "id": "ywmvYP_mS5Eq"
      },
      "execution_count": 24,
      "outputs": []
    },
    {
      "cell_type": "code",
      "source": [
        "#18. How would you implement a basic logging setup that logs to a file with rotation after 1MB?\n",
        "import logging\n",
        "from logging.handlers import RotatingFileHandler\n",
        "logger = logging.getLogger(\"RotatingLogger\")\n",
        "logger.setLevel(logging.INFO)\n",
        "handler = RotatingFileHandler(\"rotating.log\", maxBytes=1024*1024, backupCount=2)\n",
        "logger.addHandler(handler)\n",
        "for i in range(10000):\n",
        "    logger.info(f\"This is log line {i}\")\n",
        "\n",
        "\n",
        "\n",
        "#19.Write a program that handles both IndexError and KeyError using a try-except block.\n",
        "try:\n",
        "    my_list = [1, 2]\n",
        "    print(my_list[5])  # IndexError\n",
        "    my_dict = {'a': 1}\n",
        "    print(my_dict['b'])  # KeyError\n",
        "except IndexError:\n",
        "    print(\"Handled IndexError\")\n",
        "except KeyError:\n",
        "    print(\"Handled KeyError\")"
      ],
      "metadata": {
        "colab": {
          "base_uri": "https://localhost:8080/"
        },
        "id": "i8_Gqj30Tsjq",
        "outputId": "a1fb9f99-90de-4e19-f8f3-b181552540f5"
      },
      "execution_count": 26,
      "outputs": [
        {
          "output_type": "stream",
          "name": "stdout",
          "text": [
            "Handled IndexError\n"
          ]
        }
      ]
    },
    {
      "cell_type": "code",
      "source": [
        "#20. How would you open a file and read its contents using a context manager in Python?\n",
        "with open(\"example.txt\", \"r\") as file:\n",
        "    content = file.read()\n",
        "    print(content)"
      ],
      "metadata": {
        "colab": {
          "base_uri": "https://localhost:8080/"
        },
        "id": "u_NjZM5dT4Tr",
        "outputId": "8b1d0193-245f-442d-c5ac-f88a507bee52"
      },
      "execution_count": 27,
      "outputs": [
        {
          "output_type": "stream",
          "name": "stdout",
          "text": [
            "Hello, this is a test file.\n",
            "Appended line.\n"
          ]
        }
      ]
    },
    {
      "cell_type": "code",
      "source": [
        "#21. Write a Python program that reads a file and prints the number of occurrences of a specific word.\n",
        "word_to_count = \"test\"\n",
        "with open(\"example.txt\", \"r\") as file:\n",
        "    content = file.read()\n",
        "    count = content.count(word_to_count)\n",
        "    print(f\"The word '{word_to_count}' occurs {count} times.\")"
      ],
      "metadata": {
        "colab": {
          "base_uri": "https://localhost:8080/"
        },
        "id": "wP9swA6PUB_e",
        "outputId": "8272f0bb-95ea-4938-dd85-cbfbb0d857ce"
      },
      "execution_count": 28,
      "outputs": [
        {
          "output_type": "stream",
          "name": "stdout",
          "text": [
            "The word 'test' occurs 1 times.\n"
          ]
        }
      ]
    },
    {
      "cell_type": "code",
      "source": [
        "#22.How can you check if a file is empty before attempting to read its contents?\n",
        "filename = \"example.txt\"\n",
        "if os.stat(filename).st_size == 0:\n",
        "    print(\"File is empty.\")\n",
        "else:\n",
        "    with open(filename, \"r\") as file:\n",
        "        print(file.read())"
      ],
      "metadata": {
        "colab": {
          "base_uri": "https://localhost:8080/"
        },
        "id": "GYUKVRvSUKUw",
        "outputId": "29f4b6ed-db6e-4e96-ba67-9c6b97d006e7"
      },
      "execution_count": 31,
      "outputs": [
        {
          "output_type": "stream",
          "name": "stdout",
          "text": [
            "Hello, this is a test file.\n",
            "Appended line.\n"
          ]
        }
      ]
    },
    {
      "cell_type": "code",
      "source": [
        "#23.Write a Python program that writes to a log file when an error occurs during file handling.\n",
        "import logging\n",
        "logging.basicConfig(filename='file_error.log', level=logging.ERROR)\n",
        "try:\n",
        "    with open(\"nofile.txt\", \"r\") as file:\n",
        "        print(file.read())\n",
        "except Exception as e:\n",
        "    logging.error(f\"Error occurred: {e}\")"
      ],
      "metadata": {
        "colab": {
          "base_uri": "https://localhost:8080/"
        },
        "id": "pE6ptUZEUdhm",
        "outputId": "98263ad7-40f6-4bde-8397-772be0c3c297"
      },
      "execution_count": 32,
      "outputs": [
        {
          "output_type": "stream",
          "name": "stderr",
          "text": [
            "ERROR:root:Error occurred: [Errno 2] No such file or directory: 'nofile.txt'\n"
          ]
        }
      ]
    }
  ]
}